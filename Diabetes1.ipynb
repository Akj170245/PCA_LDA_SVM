{
 "cells": [
  {
   "cell_type": "code",
   "execution_count": 85,
   "id": "4ab23866",
   "metadata": {},
   "outputs": [],
   "source": [
    "#import the libraries\n",
    "import pandas as pd\n",
    "import numpy as np"
   ]
  },
  {
   "cell_type": "code",
   "execution_count": 86,
   "id": "fddffed7",
   "metadata": {},
   "outputs": [
    {
     "data": {
      "text/html": [
       "<div>\n",
       "<style scoped>\n",
       "    .dataframe tbody tr th:only-of-type {\n",
       "        vertical-align: middle;\n",
       "    }\n",
       "\n",
       "    .dataframe tbody tr th {\n",
       "        vertical-align: top;\n",
       "    }\n",
       "\n",
       "    .dataframe thead th {\n",
       "        text-align: right;\n",
       "    }\n",
       "</style>\n",
       "<table border=\"1\" class=\"dataframe\">\n",
       "  <thead>\n",
       "    <tr style=\"text-align: right;\">\n",
       "      <th></th>\n",
       "      <th>Pregnancies</th>\n",
       "      <th>Glucose</th>\n",
       "      <th>BloodPressure</th>\n",
       "      <th>SkinThickness</th>\n",
       "      <th>Insulin</th>\n",
       "      <th>BMI</th>\n",
       "      <th>DiabetesPedigreeFunction</th>\n",
       "      <th>Age</th>\n",
       "      <th>Outcome</th>\n",
       "    </tr>\n",
       "  </thead>\n",
       "  <tbody>\n",
       "    <tr>\n",
       "      <th>0</th>\n",
       "      <td>6</td>\n",
       "      <td>148</td>\n",
       "      <td>72</td>\n",
       "      <td>35</td>\n",
       "      <td>0</td>\n",
       "      <td>33.6</td>\n",
       "      <td>0.627</td>\n",
       "      <td>50</td>\n",
       "      <td>1</td>\n",
       "    </tr>\n",
       "    <tr>\n",
       "      <th>1</th>\n",
       "      <td>1</td>\n",
       "      <td>85</td>\n",
       "      <td>66</td>\n",
       "      <td>29</td>\n",
       "      <td>0</td>\n",
       "      <td>26.6</td>\n",
       "      <td>0.351</td>\n",
       "      <td>31</td>\n",
       "      <td>0</td>\n",
       "    </tr>\n",
       "    <tr>\n",
       "      <th>2</th>\n",
       "      <td>8</td>\n",
       "      <td>183</td>\n",
       "      <td>64</td>\n",
       "      <td>0</td>\n",
       "      <td>0</td>\n",
       "      <td>23.3</td>\n",
       "      <td>0.672</td>\n",
       "      <td>32</td>\n",
       "      <td>1</td>\n",
       "    </tr>\n",
       "    <tr>\n",
       "      <th>3</th>\n",
       "      <td>1</td>\n",
       "      <td>89</td>\n",
       "      <td>66</td>\n",
       "      <td>23</td>\n",
       "      <td>94</td>\n",
       "      <td>28.1</td>\n",
       "      <td>0.167</td>\n",
       "      <td>21</td>\n",
       "      <td>0</td>\n",
       "    </tr>\n",
       "    <tr>\n",
       "      <th>4</th>\n",
       "      <td>0</td>\n",
       "      <td>137</td>\n",
       "      <td>40</td>\n",
       "      <td>35</td>\n",
       "      <td>168</td>\n",
       "      <td>43.1</td>\n",
       "      <td>2.288</td>\n",
       "      <td>33</td>\n",
       "      <td>1</td>\n",
       "    </tr>\n",
       "  </tbody>\n",
       "</table>\n",
       "</div>"
      ],
      "text/plain": [
       "   Pregnancies  Glucose  BloodPressure  SkinThickness  Insulin   BMI  \\\n",
       "0            6      148             72             35        0  33.6   \n",
       "1            1       85             66             29        0  26.6   \n",
       "2            8      183             64              0        0  23.3   \n",
       "3            1       89             66             23       94  28.1   \n",
       "4            0      137             40             35      168  43.1   \n",
       "\n",
       "   DiabetesPedigreeFunction  Age  Outcome  \n",
       "0                     0.627   50        1  \n",
       "1                     0.351   31        0  \n",
       "2                     0.672   32        1  \n",
       "3                     0.167   21        0  \n",
       "4                     2.288   33        1  "
      ]
     },
     "execution_count": 86,
     "metadata": {},
     "output_type": "execute_result"
    }
   ],
   "source": [
    "# Read the dataset\n",
    "db = pd.read_csv(\"diabetes.csv\")\n",
    "db.head()"
   ]
  },
  {
   "cell_type": "code",
   "execution_count": 87,
   "id": "0348d3a6",
   "metadata": {},
   "outputs": [
    {
     "data": {
      "text/html": [
       "<div>\n",
       "<style scoped>\n",
       "    .dataframe tbody tr th:only-of-type {\n",
       "        vertical-align: middle;\n",
       "    }\n",
       "\n",
       "    .dataframe tbody tr th {\n",
       "        vertical-align: top;\n",
       "    }\n",
       "\n",
       "    .dataframe thead th {\n",
       "        text-align: right;\n",
       "    }\n",
       "</style>\n",
       "<table border=\"1\" class=\"dataframe\">\n",
       "  <thead>\n",
       "    <tr style=\"text-align: right;\">\n",
       "      <th></th>\n",
       "      <th>Pregnancies</th>\n",
       "      <th>Glucose</th>\n",
       "      <th>BloodPressure</th>\n",
       "      <th>SkinThickness</th>\n",
       "      <th>Insulin</th>\n",
       "      <th>BMI</th>\n",
       "      <th>DiabetesPedigreeFunction</th>\n",
       "      <th>Age</th>\n",
       "      <th>Outcome</th>\n",
       "    </tr>\n",
       "  </thead>\n",
       "  <tbody>\n",
       "    <tr>\n",
       "      <th>count</th>\n",
       "      <td>768.000000</td>\n",
       "      <td>768.000000</td>\n",
       "      <td>768.000000</td>\n",
       "      <td>768.000000</td>\n",
       "      <td>768.000000</td>\n",
       "      <td>768.000000</td>\n",
       "      <td>768.000000</td>\n",
       "      <td>768.000000</td>\n",
       "      <td>768.000000</td>\n",
       "    </tr>\n",
       "    <tr>\n",
       "      <th>mean</th>\n",
       "      <td>3.845052</td>\n",
       "      <td>120.894531</td>\n",
       "      <td>69.105469</td>\n",
       "      <td>20.536458</td>\n",
       "      <td>79.799479</td>\n",
       "      <td>31.992578</td>\n",
       "      <td>0.471876</td>\n",
       "      <td>33.240885</td>\n",
       "      <td>0.348958</td>\n",
       "    </tr>\n",
       "    <tr>\n",
       "      <th>std</th>\n",
       "      <td>3.369578</td>\n",
       "      <td>31.972618</td>\n",
       "      <td>19.355807</td>\n",
       "      <td>15.952218</td>\n",
       "      <td>115.244002</td>\n",
       "      <td>7.884160</td>\n",
       "      <td>0.331329</td>\n",
       "      <td>11.760232</td>\n",
       "      <td>0.476951</td>\n",
       "    </tr>\n",
       "    <tr>\n",
       "      <th>min</th>\n",
       "      <td>0.000000</td>\n",
       "      <td>0.000000</td>\n",
       "      <td>0.000000</td>\n",
       "      <td>0.000000</td>\n",
       "      <td>0.000000</td>\n",
       "      <td>0.000000</td>\n",
       "      <td>0.078000</td>\n",
       "      <td>21.000000</td>\n",
       "      <td>0.000000</td>\n",
       "    </tr>\n",
       "    <tr>\n",
       "      <th>25%</th>\n",
       "      <td>1.000000</td>\n",
       "      <td>99.000000</td>\n",
       "      <td>62.000000</td>\n",
       "      <td>0.000000</td>\n",
       "      <td>0.000000</td>\n",
       "      <td>27.300000</td>\n",
       "      <td>0.243750</td>\n",
       "      <td>24.000000</td>\n",
       "      <td>0.000000</td>\n",
       "    </tr>\n",
       "    <tr>\n",
       "      <th>50%</th>\n",
       "      <td>3.000000</td>\n",
       "      <td>117.000000</td>\n",
       "      <td>72.000000</td>\n",
       "      <td>23.000000</td>\n",
       "      <td>30.500000</td>\n",
       "      <td>32.000000</td>\n",
       "      <td>0.372500</td>\n",
       "      <td>29.000000</td>\n",
       "      <td>0.000000</td>\n",
       "    </tr>\n",
       "    <tr>\n",
       "      <th>75%</th>\n",
       "      <td>6.000000</td>\n",
       "      <td>140.250000</td>\n",
       "      <td>80.000000</td>\n",
       "      <td>32.000000</td>\n",
       "      <td>127.250000</td>\n",
       "      <td>36.600000</td>\n",
       "      <td>0.626250</td>\n",
       "      <td>41.000000</td>\n",
       "      <td>1.000000</td>\n",
       "    </tr>\n",
       "    <tr>\n",
       "      <th>max</th>\n",
       "      <td>17.000000</td>\n",
       "      <td>199.000000</td>\n",
       "      <td>122.000000</td>\n",
       "      <td>99.000000</td>\n",
       "      <td>846.000000</td>\n",
       "      <td>67.100000</td>\n",
       "      <td>2.420000</td>\n",
       "      <td>81.000000</td>\n",
       "      <td>1.000000</td>\n",
       "    </tr>\n",
       "  </tbody>\n",
       "</table>\n",
       "</div>"
      ],
      "text/plain": [
       "       Pregnancies     Glucose  BloodPressure  SkinThickness     Insulin  \\\n",
       "count   768.000000  768.000000     768.000000     768.000000  768.000000   \n",
       "mean      3.845052  120.894531      69.105469      20.536458   79.799479   \n",
       "std       3.369578   31.972618      19.355807      15.952218  115.244002   \n",
       "min       0.000000    0.000000       0.000000       0.000000    0.000000   \n",
       "25%       1.000000   99.000000      62.000000       0.000000    0.000000   \n",
       "50%       3.000000  117.000000      72.000000      23.000000   30.500000   \n",
       "75%       6.000000  140.250000      80.000000      32.000000  127.250000   \n",
       "max      17.000000  199.000000     122.000000      99.000000  846.000000   \n",
       "\n",
       "              BMI  DiabetesPedigreeFunction         Age     Outcome  \n",
       "count  768.000000                768.000000  768.000000  768.000000  \n",
       "mean    31.992578                  0.471876   33.240885    0.348958  \n",
       "std      7.884160                  0.331329   11.760232    0.476951  \n",
       "min      0.000000                  0.078000   21.000000    0.000000  \n",
       "25%     27.300000                  0.243750   24.000000    0.000000  \n",
       "50%     32.000000                  0.372500   29.000000    0.000000  \n",
       "75%     36.600000                  0.626250   41.000000    1.000000  \n",
       "max     67.100000                  2.420000   81.000000    1.000000  "
      ]
     },
     "execution_count": 87,
     "metadata": {},
     "output_type": "execute_result"
    }
   ],
   "source": [
    "db.describe()"
   ]
  },
  {
   "cell_type": "code",
   "execution_count": 88,
   "id": "e9fc1102",
   "metadata": {},
   "outputs": [],
   "source": [
    "# Replacing 0 values to NaN in columns\n",
    "columns = [\"Glucose\", \"BloodPressure\", \"SkinThickness\", \"Insulin\", \"BMI\"]\n",
    "for column in columns:\n",
    "    db[column].replace(0,np.NaN,inplace=True)"
   ]
  },
  {
   "cell_type": "code",
   "execution_count": 89,
   "id": "91fbb43f",
   "metadata": {},
   "outputs": [
    {
     "data": {
      "text/plain": [
       "Pregnancies                   0\n",
       "Glucose                       5\n",
       "BloodPressure                35\n",
       "SkinThickness               227\n",
       "Insulin                     374\n",
       "BMI                          11\n",
       "DiabetesPedigreeFunction      0\n",
       "Age                           0\n",
       "Outcome                       0\n",
       "dtype: int64"
      ]
     },
     "execution_count": 89,
     "metadata": {},
     "output_type": "execute_result"
    }
   ],
   "source": [
    "#It gives the numbers of missing NaN's in different cloumns\n",
    "db.isnull().sum()"
   ]
  },
  {
   "cell_type": "code",
   "execution_count": 90,
   "id": "c6a5ef19",
   "metadata": {},
   "outputs": [],
   "source": [
    "# Replacing the missing NaN values with median based on target i.e. Outcome\n",
    "for col in db.columns:\n",
    "    db.loc[(db[\"Outcome\"]==0) & (db[col].isnull()),col] = db[db[\"Outcome\"]==0][col].median()\n",
    "    db.loc[(db[\"Outcome\"]==1) & (db[col].isnull()),col] = db[db[\"Outcome\"]==1][col].median()"
   ]
  },
  {
   "cell_type": "code",
   "execution_count": 91,
   "id": "c7bd6a50",
   "metadata": {},
   "outputs": [
    {
     "data": {
      "text/plain": [
       "Pregnancies                 0\n",
       "Glucose                     0\n",
       "BloodPressure               0\n",
       "SkinThickness               0\n",
       "Insulin                     0\n",
       "BMI                         0\n",
       "DiabetesPedigreeFunction    0\n",
       "Age                         0\n",
       "Outcome                     0\n",
       "dtype: int64"
      ]
     },
     "execution_count": 91,
     "metadata": {},
     "output_type": "execute_result"
    }
   ],
   "source": [
    "#Now, see the missing values\n",
    "db.isnull().sum()"
   ]
  },
  {
   "cell_type": "code",
   "execution_count": 92,
   "id": "f6244adf",
   "metadata": {},
   "outputs": [
    {
     "name": "stdout",
     "output_type": "stream",
     "text": [
      "SkinThickness coulmn has outliers\n",
      "Insulin coulmn has outliers\n",
      "DiabetesPedigreeFunction coulmn has outliers\n"
     ]
    }
   ],
   "source": [
    "# Dealing with outliers\n",
    "# Define a function to find the outlier thresholds\n",
    "# According to data structure, business area different quartiles like 0.1, 0.9 can be selected.\n",
    "# For linear models, we need to analyse outliers. \n",
    "\n",
    "def outlier_thresholds(dataframe, variable):\n",
    "    quartile1 = dataframe[variable].quantile(0.10)\n",
    "    quartile3 = dataframe[variable].quantile(0.90)\n",
    "    interquantile_range = quartile3 - quartile1\n",
    "    up_limit = quartile3 + 1.5 * interquantile_range\n",
    "    low_limit = quartile1 - 1.5 * interquantile_range\n",
    "    return low_limit, up_limit\n",
    "\n",
    "# We have defined a function which has_outliers\n",
    "# It will give the names of the columns having outliers\n",
    "def has_outliers(dataframe, variable):\n",
    "    low_limit, up_limit = outlier_thresholds(dataframe, variable)\n",
    "    if dataframe[(dataframe[variable] < low_limit) | (dataframe[variable] > up_limit)].any(axis=None):\n",
    "        print(variable,\"coulmn has outliers\")  \n",
    "        \n",
    "for col in db.columns:\n",
    "    has_outliers(db, col)"
   ]
  },
  {
   "cell_type": "code",
   "execution_count": 93,
   "id": "2989b1ec",
   "metadata": {},
   "outputs": [],
   "source": [
    "# Replacing the columns values having outliers with lower and upper limits \n",
    "def replace_with_thresholds(dataframe, numeric_columns):\n",
    "    for variable in numeric_columns:\n",
    "        low_limit, up_limit = outlier_thresholds(dataframe, variable)\n",
    "        dataframe.loc[(dataframe[variable] < low_limit), variable] = low_limit\n",
    "        dataframe.loc[(dataframe[variable] > up_limit), variable] = up_limit\n",
    "        replace_with_thresholds(db, db.columns)\n",
    "        for col in db.columns:\n",
    "            has_outliers(db, col)"
   ]
  },
  {
   "cell_type": "code",
   "execution_count": 94,
   "id": "14b5f30b",
   "metadata": {},
   "outputs": [],
   "source": [
    "# For Glucose Tolerance Test(GLT)\n",
    "# Normal Results for Diabetes -> Two-hour glucose level less than 140 mg/dL\n",
    "# Impaired Results for Diabetes -> Two-hour glucose level 140 to 200 mg/dL\n",
    "# Abnormal (Diagnostic) Results for Diabetes -> Two-hour glucose level greater than 200 mg/dL\n",
    "\n",
    "db['New_GLT'] = pd.cut(x=db['Glucose'], bins=[0,139,200,250],labels = [\"Normal\",\"Impaired\",\"Abnormal\"])"
   ]
  },
  {
   "cell_type": "code",
   "execution_count": 95,
   "id": "5578b3cc",
   "metadata": {},
   "outputs": [],
   "source": [
    "# BMI\n",
    "# Below 18.5 -> Underweight\n",
    "# 18.5 – 24.9 -> Normal or Healthy Weight\n",
    "# 25.0 – 29.9 -> Overweight\n",
    "# 30.0 and Above -> Obese\n",
    "\n",
    "db['New_BMI'] = pd.cut(x=db['BMI'], bins=[0,18.4,24.9,29.9,70],labels = [\"Underweight\",\"Healty or Normal\",\"Overweight\",\"Obese\"])"
   ]
  },
  {
   "cell_type": "code",
   "execution_count": 96,
   "id": "f5c2217f",
   "metadata": {},
   "outputs": [],
   "source": [
    "# Blood Pressure(BP)\n",
    "# Normal: Systolic below 120 and diastolic below 80\n",
    "# Elevated: Systolic 120–129 and diastolic under 80\n",
    "# Hypertension stage 1(HS1): Systolic 130–139 and diastolic 80–89\n",
    "# Hypertension stage 2(HS2): Systolic 140-plus and diastolic 90 or more\n",
    "# Hypertensive crisis(HC): Systolic higher than 180 and diastolic above 120.\n",
    "\n",
    "db['New_BP'] = pd.cut(x=db['BloodPressure'], bins=[0,79,89,120,150],labels = [\"Normal\",\"HS1\",\"HS2\",\"HC\"])"
   ]
  },
  {
   "cell_type": "code",
   "execution_count": 97,
   "id": "dd50821c",
   "metadata": {},
   "outputs": [
    {
     "data": {
      "text/html": [
       "<div>\n",
       "<style scoped>\n",
       "    .dataframe tbody tr th:only-of-type {\n",
       "        vertical-align: middle;\n",
       "    }\n",
       "\n",
       "    .dataframe tbody tr th {\n",
       "        vertical-align: top;\n",
       "    }\n",
       "\n",
       "    .dataframe thead th {\n",
       "        text-align: right;\n",
       "    }\n",
       "</style>\n",
       "<table border=\"1\" class=\"dataframe\">\n",
       "  <thead>\n",
       "    <tr style=\"text-align: right;\">\n",
       "      <th></th>\n",
       "      <th>Pregnancies</th>\n",
       "      <th>Glucose</th>\n",
       "      <th>BloodPressure</th>\n",
       "      <th>SkinThickness</th>\n",
       "      <th>Insulin</th>\n",
       "      <th>BMI</th>\n",
       "      <th>DiabetesPedigreeFunction</th>\n",
       "      <th>Age</th>\n",
       "      <th>Outcome</th>\n",
       "      <th>New_GLT</th>\n",
       "      <th>New_BMI</th>\n",
       "      <th>New_BP</th>\n",
       "      <th>New_SThick</th>\n",
       "    </tr>\n",
       "  </thead>\n",
       "  <tbody>\n",
       "    <tr>\n",
       "      <th>0</th>\n",
       "      <td>6</td>\n",
       "      <td>148.0</td>\n",
       "      <td>72.0</td>\n",
       "      <td>35.0</td>\n",
       "      <td>169.5</td>\n",
       "      <td>33.6</td>\n",
       "      <td>0.627</td>\n",
       "      <td>50</td>\n",
       "      <td>1</td>\n",
       "      <td>Impaired</td>\n",
       "      <td>Obese</td>\n",
       "      <td>Normal</td>\n",
       "      <td>0</td>\n",
       "    </tr>\n",
       "    <tr>\n",
       "      <th>1</th>\n",
       "      <td>1</td>\n",
       "      <td>85.0</td>\n",
       "      <td>66.0</td>\n",
       "      <td>29.0</td>\n",
       "      <td>102.5</td>\n",
       "      <td>26.6</td>\n",
       "      <td>0.351</td>\n",
       "      <td>31</td>\n",
       "      <td>0</td>\n",
       "      <td>Normal</td>\n",
       "      <td>Overweight</td>\n",
       "      <td>Normal</td>\n",
       "      <td>0</td>\n",
       "    </tr>\n",
       "    <tr>\n",
       "      <th>2</th>\n",
       "      <td>8</td>\n",
       "      <td>183.0</td>\n",
       "      <td>64.0</td>\n",
       "      <td>32.0</td>\n",
       "      <td>169.5</td>\n",
       "      <td>23.3</td>\n",
       "      <td>0.672</td>\n",
       "      <td>32</td>\n",
       "      <td>1</td>\n",
       "      <td>Impaired</td>\n",
       "      <td>Healty or Normal</td>\n",
       "      <td>Normal</td>\n",
       "      <td>0</td>\n",
       "    </tr>\n",
       "    <tr>\n",
       "      <th>3</th>\n",
       "      <td>1</td>\n",
       "      <td>89.0</td>\n",
       "      <td>66.0</td>\n",
       "      <td>23.0</td>\n",
       "      <td>94.0</td>\n",
       "      <td>28.1</td>\n",
       "      <td>0.167</td>\n",
       "      <td>21</td>\n",
       "      <td>0</td>\n",
       "      <td>Normal</td>\n",
       "      <td>Overweight</td>\n",
       "      <td>Normal</td>\n",
       "      <td>0</td>\n",
       "    </tr>\n",
       "    <tr>\n",
       "      <th>4</th>\n",
       "      <td>0</td>\n",
       "      <td>137.0</td>\n",
       "      <td>40.0</td>\n",
       "      <td>35.0</td>\n",
       "      <td>168.0</td>\n",
       "      <td>43.1</td>\n",
       "      <td>2.288</td>\n",
       "      <td>33</td>\n",
       "      <td>1</td>\n",
       "      <td>Normal</td>\n",
       "      <td>Obese</td>\n",
       "      <td>Normal</td>\n",
       "      <td>0</td>\n",
       "    </tr>\n",
       "    <tr>\n",
       "      <th>5</th>\n",
       "      <td>5</td>\n",
       "      <td>116.0</td>\n",
       "      <td>74.0</td>\n",
       "      <td>27.0</td>\n",
       "      <td>102.5</td>\n",
       "      <td>25.6</td>\n",
       "      <td>0.201</td>\n",
       "      <td>30</td>\n",
       "      <td>0</td>\n",
       "      <td>Normal</td>\n",
       "      <td>Overweight</td>\n",
       "      <td>Normal</td>\n",
       "      <td>0</td>\n",
       "    </tr>\n",
       "    <tr>\n",
       "      <th>6</th>\n",
       "      <td>3</td>\n",
       "      <td>78.0</td>\n",
       "      <td>50.0</td>\n",
       "      <td>32.0</td>\n",
       "      <td>88.0</td>\n",
       "      <td>31.0</td>\n",
       "      <td>0.248</td>\n",
       "      <td>26</td>\n",
       "      <td>1</td>\n",
       "      <td>Normal</td>\n",
       "      <td>Obese</td>\n",
       "      <td>Normal</td>\n",
       "      <td>0</td>\n",
       "    </tr>\n",
       "    <tr>\n",
       "      <th>7</th>\n",
       "      <td>10</td>\n",
       "      <td>115.0</td>\n",
       "      <td>70.0</td>\n",
       "      <td>27.0</td>\n",
       "      <td>102.5</td>\n",
       "      <td>35.3</td>\n",
       "      <td>0.134</td>\n",
       "      <td>29</td>\n",
       "      <td>0</td>\n",
       "      <td>Normal</td>\n",
       "      <td>Obese</td>\n",
       "      <td>Normal</td>\n",
       "      <td>0</td>\n",
       "    </tr>\n",
       "    <tr>\n",
       "      <th>8</th>\n",
       "      <td>2</td>\n",
       "      <td>197.0</td>\n",
       "      <td>70.0</td>\n",
       "      <td>45.0</td>\n",
       "      <td>543.0</td>\n",
       "      <td>30.5</td>\n",
       "      <td>0.158</td>\n",
       "      <td>53</td>\n",
       "      <td>1</td>\n",
       "      <td>Impaired</td>\n",
       "      <td>Obese</td>\n",
       "      <td>Normal</td>\n",
       "      <td>0</td>\n",
       "    </tr>\n",
       "    <tr>\n",
       "      <th>9</th>\n",
       "      <td>8</td>\n",
       "      <td>125.0</td>\n",
       "      <td>96.0</td>\n",
       "      <td>32.0</td>\n",
       "      <td>169.5</td>\n",
       "      <td>34.3</td>\n",
       "      <td>0.232</td>\n",
       "      <td>54</td>\n",
       "      <td>1</td>\n",
       "      <td>Normal</td>\n",
       "      <td>Obese</td>\n",
       "      <td>HS2</td>\n",
       "      <td>0</td>\n",
       "    </tr>\n",
       "  </tbody>\n",
       "</table>\n",
       "</div>"
      ],
      "text/plain": [
       "   Pregnancies  Glucose  BloodPressure  SkinThickness  Insulin   BMI  \\\n",
       "0            6    148.0           72.0           35.0    169.5  33.6   \n",
       "1            1     85.0           66.0           29.0    102.5  26.6   \n",
       "2            8    183.0           64.0           32.0    169.5  23.3   \n",
       "3            1     89.0           66.0           23.0     94.0  28.1   \n",
       "4            0    137.0           40.0           35.0    168.0  43.1   \n",
       "5            5    116.0           74.0           27.0    102.5  25.6   \n",
       "6            3     78.0           50.0           32.0     88.0  31.0   \n",
       "7           10    115.0           70.0           27.0    102.5  35.3   \n",
       "8            2    197.0           70.0           45.0    543.0  30.5   \n",
       "9            8    125.0           96.0           32.0    169.5  34.3   \n",
       "\n",
       "   DiabetesPedigreeFunction  Age  Outcome   New_GLT           New_BMI  New_BP  \\\n",
       "0                     0.627   50        1  Impaired             Obese  Normal   \n",
       "1                     0.351   31        0    Normal        Overweight  Normal   \n",
       "2                     0.672   32        1  Impaired  Healty or Normal  Normal   \n",
       "3                     0.167   21        0    Normal        Overweight  Normal   \n",
       "4                     2.288   33        1    Normal             Obese  Normal   \n",
       "5                     0.201   30        0    Normal        Overweight  Normal   \n",
       "6                     0.248   26        1    Normal             Obese  Normal   \n",
       "7                     0.134   29        0    Normal             Obese  Normal   \n",
       "8                     0.158   53        1  Impaired             Obese  Normal   \n",
       "9                     0.232   54        1    Normal             Obese     HS2   \n",
       "\n",
       "   New_SThick  \n",
       "0           0  \n",
       "1           0  \n",
       "2           0  \n",
       "3           0  \n",
       "4           0  \n",
       "5           0  \n",
       "6           0  \n",
       "7           0  \n",
       "8           0  \n",
       "9           0  "
      ]
     },
     "execution_count": 97,
     "metadata": {},
     "output_type": "execute_result"
    }
   ],
   "source": [
    "# Triceps Skinfolds\n",
    "# For adults, the standard normal values for triceps skinfolds is 18.0 mm for women\n",
    "\n",
    "db['New_SThick'] = db['SkinThickness'].apply(lambda x: 1 if x <= 18.0 else 0)\n",
    "db.head(10)"
   ]
  },
  {
   "cell_type": "code",
   "execution_count": 98,
   "id": "9d6f37b0",
   "metadata": {},
   "outputs": [],
   "source": [
    "def one_hot_encoder(dataframe, categorical_columns, nan_as_category=False):\n",
    "    original_columns = list(dataframe.columns)\n",
    "    dataframe = pd.get_dummies(dataframe, columns=categorical_columns,\n",
    "                               dummy_na=nan_as_category, drop_first=True)\n",
    "    new_columns = [col for col in dataframe.columns if col not in original_columns]\n",
    "    return dataframe, new_columns"
   ]
  },
  {
   "cell_type": "code",
   "execution_count": 99,
   "id": "6ef4e6a9",
   "metadata": {},
   "outputs": [
    {
     "data": {
      "text/plain": [
       "['New_GLT', 'New_BMI', 'New_BP', 'New_SThick']"
      ]
     },
     "execution_count": 99,
     "metadata": {},
     "output_type": "execute_result"
    }
   ],
   "source": [
    "categorical_columns = [col for col in db.columns\n",
    "                           if len(db[col].unique()) <= 10\n",
    "                      and col != \"Outcome\"]\n",
    "categorical_columns"
   ]
  },
  {
   "cell_type": "code",
   "execution_count": 100,
   "id": "0a0992fe",
   "metadata": {},
   "outputs": [
    {
     "data": {
      "text/plain": [
       "['New_GLT_Impaired',\n",
       " 'New_GLT_Abnormal',\n",
       " 'New_BMI_Healty or Normal',\n",
       " 'New_BMI_Overweight',\n",
       " 'New_BMI_Obese',\n",
       " 'New_BP_HS1',\n",
       " 'New_BP_HS2',\n",
       " 'New_BP_HC',\n",
       " 'New_SThick_1']"
      ]
     },
     "execution_count": 100,
     "metadata": {},
     "output_type": "execute_result"
    }
   ],
   "source": [
    "db, new_cols_ohe = one_hot_encoder(db,categorical_columns)\n",
    "new_cols_ohe"
   ]
  },
  {
   "cell_type": "code",
   "execution_count": 101,
   "id": "f7663b01",
   "metadata": {},
   "outputs": [],
   "source": [
    "from sklearn.preprocessing import RobustScaler\n",
    "def robust_scaler(variable):\n",
    "    var_median = variable.median()\n",
    "    quartile1 = variable.quantile(0.25)\n",
    "    quartile3 = variable.quantile(0.75)\n",
    "    interquantile_range = quartile3 - quartile1\n",
    "    if int(interquantile_range) == 0:\n",
    "        quartile1 = variable.quantile(0.05)\n",
    "        quartile3 = variable.quantile(0.95)\n",
    "        interquantile_range = quartile3 - quartile1\n",
    "        if int(interquantile_range) == 0:\n",
    "            quartile1 = variable.quantile(0.01)\n",
    "            quartile3 = variable.quantile(0.99)\n",
    "            interquantile_range = quartile3 - quartile1\n",
    "            z = (variable - var_median) / interquantile_range\n",
    "            return round(z, 3)\n",
    "\n",
    "        z = (variable - var_median) / interquantile_range\n",
    "        return round(z, 3)\n",
    "    else:\n",
    "        z = (variable - var_median) / interquantile_range\n",
    "    return round(z, 3)\n",
    "\n",
    "like_num = [col for col in db.columns if db[col].dtypes != 'O' and len(db[col].value_counts()) < 10]\n",
    "cols_need_scale = [col for col in db.columns if col not in new_cols_ohe\n",
    "                   and col not in \"Outcome\"\n",
    "                   and col not in like_num]\n",
    "\n",
    "for col in cols_need_scale:\n",
    "    db[col] = robust_scaler(db[col])"
   ]
  },
  {
   "cell_type": "code",
   "execution_count": 102,
   "id": "d18af037",
   "metadata": {},
   "outputs": [],
   "source": [
    "# Principal_Component_Analysis\n",
    " \n",
    "def PCA(X,num_components):\n",
    "     \n",
    "    #Step-1 : centralize the data values around mean\n",
    "    X_mean = X - np.mean(X , axis = 0)\n",
    "     \n",
    "    #Step-2:calculate the covariance matrix\n",
    "    covariance_matrix = np.cov(X_mean , rowvar = False)\n",
    "     \n",
    "    #Step-3: calculate the list of eigen values and eigen vectors\n",
    "    eigen_values , eigen_vectors = np.linalg.eigh(covariance_matrix)\n",
    "     \n",
    "    #Step-4: Sort the eigen values and eigen vectors in desecensing order\n",
    "    sorted_index = np.argsort(eigen_values)[::-1]\n",
    "    sorted_eigenvalue = eigen_values[sorted_index]\n",
    "    sorted_eigenvectors = eigen_vectors[:,sorted_index]\n",
    "     \n",
    "    #Step-5 : Sorting the eigen vectors based on number of components\n",
    "    eigenvector_subset = sorted_eigenvectors[:,0:num_components]\n",
    "     \n",
    "    #Step-6: transform the data\n",
    "    X_reduced = np.dot(eigenvector_subset.transpose() , X_mean.transpose() ).transpose()\n",
    "     \n",
    "    return X_reduced"
   ]
  },
  {
   "cell_type": "code",
   "execution_count": 103,
   "id": "0a2c8704",
   "metadata": {},
   "outputs": [],
   "source": [
    "#prepare the data\n",
    "X = db.drop(['Outcome'],axis =1)\n",
    "#prepare the target\n",
    "Y = db['Outcome']"
   ]
  },
  {
   "cell_type": "code",
   "execution_count": 104,
   "id": "7e75cdbf",
   "metadata": {},
   "outputs": [],
   "source": [
    "#split the dataset into train and test \n",
    "from sklearn.model_selection import train_test_split\n",
    "X_train,X_test,Y_train,Y_test = train_test_split(X,Y,test_size = 0.20, random_state = 42)\n",
    "# split the training data into training and validation set\n",
    "X_train1,X_val,Y_train1,Y_val = train_test_split(X_train,Y_train,test_size = 0.125 ,random_state = 42)"
   ]
  },
  {
   "cell_type": "code",
   "execution_count": 105,
   "id": "3fab1038",
   "metadata": {
    "scrolled": true
   },
   "outputs": [],
   "source": [
    "#Applying it to PCA function\n",
    "mat_reduced = PCA(X_train1,2)\n",
    "#Creating a Pandas DataFrame of reduced Dataset\n",
    "principal_db = pd.DataFrame(mat_reduced , columns = ['PC1','PC2'])\n",
    "#Concat it with target variable to create a complete Dataset\n",
    "principal_db = pd.concat([principal_db , pd.DataFrame(Y)] , axis = 1)"
   ]
  },
  {
   "cell_type": "code",
   "execution_count": 106,
   "id": "609e3a70",
   "metadata": {},
   "outputs": [
    {
     "data": {
      "text/plain": [
       "<AxesSubplot:xlabel='PC1', ylabel='PC2'>"
      ]
     },
     "execution_count": 106,
     "metadata": {},
     "output_type": "execute_result"
    },
    {
     "data": {
      "image/png": "[encoded data removed]",
      "text/plain": [
       "<Figure size 576x576 with 1 Axes>"
      ]
     },
     "metadata": {
      "needs_background": "light"
     },
     "output_type": "display_data"
    }
   ],
   "source": [
    "import seaborn as sb\n",
    "import matplotlib.pyplot as plt\n",
    "plt.figure(figsize = (8,8))\n",
    "sb.scatterplot(data = principal_db , x = 'PC1',y = 'PC2' , hue = 'Outcome' , s = 100 , palette= 'pastel')"
   ]
  },
  {
   "cell_type": "code",
   "execution_count": 107,
   "id": "95696a42",
   "metadata": {},
   "outputs": [],
   "source": [
    "#import the important libraries\n",
    "from sklearn import svm\n",
    "from sklearn.preprocessing import StandardScaler\n",
    "from sklearn.model_selection import train_test_split\n",
    "from sklearn.metrics import accuracy_score, classification_report\n",
    "\n",
    "# Normalize Features\n",
    "scaler = StandardScaler()\n",
    "scaler.fit(principal_db)\n",
    "pricipal_db = scaler.transform(principal_db)"
   ]
  },
  {
   "cell_type": "code",
   "execution_count": 108,
   "id": "b31bf5dd",
   "metadata": {},
   "outputs": [
    {
     "name": "stdout",
     "output_type": "stream",
     "text": [
      "linear\n",
      "0.7821229050279329\n",
      "poly\n",
      "0.8528864059590316\n",
      "rbf\n",
      "0.8938547486033519\n",
      "sigmoid\n",
      "0.6741154562383612\n"
     ]
    }
   ],
   "source": [
    "# SVM Kernels( Accuracy on training dataset)\n",
    "for k in ('linear', 'poly', 'rbf', 'sigmoid'):\n",
    "    model = svm.SVC(kernel=k)\n",
    "    model.fit(X_train1, Y_train1)\n",
    "    y_pred = model.predict(X_train1)\n",
    "    print(k)\n",
    "    print(accuracy_score(Y_train1, y_pred)) "
   ]
  },
  {
   "cell_type": "code",
   "execution_count": 109,
   "id": "da774f97",
   "metadata": {},
   "outputs": [
    {
     "data": {
      "text/plain": [
       "SVC()"
      ]
     },
     "execution_count": 109,
     "metadata": {},
     "output_type": "execute_result"
    }
   ],
   "source": [
    "# Using the best model for training\n",
    "model = svm.SVC(kernel='rbf')\n",
    "model.fit(X_train1, Y_train1)"
   ]
  },
  {
   "cell_type": "code",
   "execution_count": 110,
   "id": "5a4c69f0",
   "metadata": {},
   "outputs": [
    {
     "name": "stdout",
     "output_type": "stream",
     "text": [
      "linear\n",
      "0.8701298701298701\n",
      "poly\n",
      "0.8831168831168831\n",
      "rbf\n",
      "0.9090909090909091\n",
      "sigmoid\n",
      "0.7922077922077922\n"
     ]
    }
   ],
   "source": [
    "# SVM Kernels(Accuracy on validation set)\n",
    "for k in ('linear', 'poly', 'rbf', 'sigmoid'):\n",
    "    model = svm.SVC(kernel=k)\n",
    "    model.fit(X_val, Y_val)\n",
    "    y_pred1 = model.predict(X_val)\n",
    "    print(k)\n",
    "    print(accuracy_score(Y_val, y_pred1))"
   ]
  },
  {
   "cell_type": "code",
   "execution_count": 111,
   "id": "e91dd06d",
   "metadata": {},
   "outputs": [
    {
     "name": "stdout",
     "output_type": "stream",
     "text": [
      "linear\n",
      "0.8766233766233766\n",
      "poly\n",
      "0.8766233766233766\n",
      "rbf\n",
      "0.935064935064935\n",
      "sigmoid\n",
      "0.7922077922077922\n"
     ]
    }
   ],
   "source": [
    "# SVM Kernels( Accuracy on test dataset)\n",
    "for k in ('linear', 'poly', 'rbf', 'sigmoid'):\n",
    "    model = svm.SVC(kernel=k)\n",
    "    model.fit(X_test, Y_test)\n",
    "    y_pred2 = model.predict(X_test)\n",
    "    print(k)\n",
    "    print(accuracy_score(Y_test, y_pred2))"
   ]
  },
  {
   "cell_type": "code",
   "execution_count": 112,
   "id": "1ab91a7f",
   "metadata": {},
   "outputs": [],
   "source": [
    "from sklearn.model_selection import KFold\n",
    "from sklearn.model_selection import cross_val_score\n",
    "from sklearn.svm import SVC\n",
    "from sklearn import model_selection\n",
    "from sklearn.discriminant_analysis import LinearDiscriminantAnalysis\n",
    "models = []\n",
    "models.append(('LDA', LinearDiscriminantAnalysis()))\n",
    "models.append(('SVM', SVC()))"
   ]
  },
  {
   "cell_type": "code",
   "execution_count": 113,
   "id": "37ce31c8",
   "metadata": {},
   "outputs": [
    {
     "name": "stdout",
     "output_type": "stream",
     "text": [
      "LDA 0.7541579315164221\n",
      "SVM 0.8528651292802236\n"
     ]
    }
   ],
   "source": [
    "results = []\n",
    "names = []\n",
    "for name,model in models:\n",
    "    kfold = model_selection.KFold(n_splits=10)\n",
    "    cv_result = model_selection.cross_val_score(model,X_train1,Y_train1, cv = kfold,scoring = \"accuracy\")\n",
    "    kfold = model_selection.KFold(n_splits=10)\n",
    "    names.append(name)\n",
    "    results.append(cv_result)\n",
    "for i in range(len(names)):\n",
    "    print(names[i],results[i].mean())"
   ]
  },
  {
   "cell_type": "code",
   "execution_count": 114,
   "id": "f74a1e94",
   "metadata": {},
   "outputs": [
    {
     "data": {
      "text/plain": [
       "[Text(0, 0, 'LDA'), Text(1, 0, 'SVM')]"
      ]
     },
     "execution_count": 114,
     "metadata": {},
     "output_type": "execute_result"
    },
    {
     "data": {
      "image/png": "[encoded data removed]",
      "text/plain": [
       "<Figure size 432x288 with 1 Axes>"
      ]
     },
     "metadata": {
      "needs_background": "light"
     },
     "output_type": "display_data"
    }
   ],
   "source": [
    "ax = sb.boxplot(data=results)\n",
    "ax.set_xticklabels(names)"
   ]
  },
  {
   "cell_type": "code",
   "execution_count": 115,
   "id": "02816cbc",
   "metadata": {},
   "outputs": [],
   "source": [
    "lda = LinearDiscriminantAnalysis()\n",
    "lda.fit(X_train1,Y_train1)\n",
    "predictions_lda = lda.predict(X_val)"
   ]
  },
  {
   "cell_type": "code",
   "execution_count": 116,
   "id": "0e294a49",
   "metadata": {},
   "outputs": [],
   "source": [
    "from sklearn.metrics import classification_report\n",
    "from sklearn.metrics import confusion_matrix\n",
    "from sklearn.metrics import accuracy_score "
   ]
  },
  {
   "cell_type": "code",
   "execution_count": 117,
   "id": "2435b2c0",
   "metadata": {},
   "outputs": [
    {
     "name": "stdout",
     "output_type": "stream",
     "text": [
      "Accuracy Score is:\n",
      "0.8441558441558441\n",
      "\n"
     ]
    }
   ],
   "source": [
    "print(\"Accuracy Score is:\")\n",
    "print(accuracy_score(Y_val, predictions_lda))\n",
    "print()"
   ]
  },
  {
   "cell_type": "code",
   "execution_count": 118,
   "id": "82e20fa5",
   "metadata": {},
   "outputs": [
    {
     "name": "stdout",
     "output_type": "stream",
     "text": [
      "Classification Report:\n",
      "              precision    recall  f1-score   support\n",
      "\n",
      "           0       0.87      0.91      0.89        53\n",
      "           1       0.77      0.71      0.74        24\n",
      "\n",
      "    accuracy                           0.84        77\n",
      "   macro avg       0.82      0.81      0.81        77\n",
      "weighted avg       0.84      0.84      0.84        77\n",
      "\n"
     ]
    }
   ],
   "source": [
    "print(\"Classification Report:\")\n",
    "print(classification_report(Y_val, predictions_lda))"
   ]
  },
  {
   "cell_type": "code",
   "execution_count": 119,
   "id": "6783015e",
   "metadata": {},
   "outputs": [
    {
     "data": {
      "text/plain": [
       "array([[48,  5],\n",
       "       [ 7, 17]], dtype=int64)"
      ]
     },
     "execution_count": 119,
     "metadata": {},
     "output_type": "execute_result"
    }
   ],
   "source": [
    "conf = confusion_matrix(Y_val,predictions_lda)\n",
    "conf"
   ]
  },
  {
   "cell_type": "code",
   "execution_count": 120,
   "id": "54f6790f",
   "metadata": {},
   "outputs": [
    {
     "data": {
      "text/plain": [
       "<AxesSubplot:>"
      ]
     },
     "execution_count": 120,
     "metadata": {},
     "output_type": "execute_result"
    },
    {
     "data": {
      "image/png": "[encoded data removed]",
      "text/plain": [
       "<Figure size 432x288 with 2 Axes>"
      ]
     },
     "metadata": {
      "needs_background": "light"
     },
     "output_type": "display_data"
    }
   ],
   "source": [
    "label = [\"0\",\"1\"]\n",
    "sb.heatmap(conf, annot=True, xticklabels=label, yticklabels=label)"
   ]
  }
 ],
 "metadata": {
  "kernelspec": {
   "display_name": "Python 3",
   "language": "python",
   "name": "python3"
  },
  "language_info": {
   "codemirror_mode": {
    "name": "ipython",
    "version": 3
   },
   "file_extension": ".py",
   "mimetype": "text/x-python",
   "name": "python",
   "nbconvert_exporter": "python",
   "pygments_lexer": "ipython3",
   "version": "3.8.8"
  }
 },
 "nbformat": 4,
 "nbformat_minor": 5
}
